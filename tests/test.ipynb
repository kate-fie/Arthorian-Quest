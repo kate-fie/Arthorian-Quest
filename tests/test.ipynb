{
 "cells": [
  {
   "cell_type": "code",
   "id": "initial_id",
   "metadata": {
    "collapsed": true,
    "ExecuteTime": {
     "end_time": "2025-01-16T14:06:06.407428Z",
     "start_time": "2025-01-16T14:06:06.048767Z"
    }
   },
   "source": "import pandas as pd",
   "outputs": [],
   "execution_count": 1
  },
  {
   "metadata": {
    "ExecuteTime": {
     "end_time": "2025-01-16T14:09:10.334813Z",
     "start_time": "2025-01-16T14:09:10.327695Z"
    }
   },
   "cell_type": "code",
   "source": [
    "mock_results_1 = pd.DataFrame([\n",
    "            {'arthor.rank': 1, 'arthor.index': 1, 'smiles': 'CC', 'identifier': 'id1', 'arthor.source': 'src1', 'N_RB': 1,\n",
    "             'N_HA': 2, 'recordsTotal': 2, 'recordsFiltered': 2, 'hasMore': False, 'query': 'CC', 'query_length': 2},\n",
    "            {'arthor.rank': 2, 'arthor.index': 2, 'smiles': 'CCC', 'identifier': 'id2', 'arthor.source': 'src2', 'N_RB': 2,\n",
    "             'N_HA': 3, 'recordsTotal': 2, 'recordsFiltered': 2, 'hasMore': False, 'query': 'CC', 'query_length': 2}\n",
    "    ])\n"
   ],
   "id": "936a16a4fecff2c2",
   "outputs": [],
   "execution_count": 3
  },
  {
   "metadata": {
    "ExecuteTime": {
     "end_time": "2025-01-16T14:25:58.735313Z",
     "start_time": "2025-01-16T14:25:58.732356Z"
    }
   },
   "cell_type": "code",
   "source": [
    "kwargs = {'dict': {'query': 'CC', 'type': 'SMARTS', 'length': 1000}}\n",
    "kwargs.get('dict', {}).get('query')"
   ],
   "id": "c487ae5b104a7516",
   "outputs": [
    {
     "data": {
      "text/plain": [
       "'CC'"
      ]
     },
     "execution_count": 6,
     "metadata": {},
     "output_type": "execute_result"
    }
   ],
   "execution_count": 6
  },
  {
   "metadata": {
    "ExecuteTime": {
     "end_time": "2025-01-16T14:29:10.102680Z",
     "start_time": "2025-01-16T14:29:10.099027Z"
    }
   },
   "cell_type": "code",
   "source": [
    "args = ('https://arthor.docking.org//dt/test_db/search', {'query': 'CCC', 'type': 'SMARTS', 'length': 1000})\n",
    "args[1].get('query')"
   ],
   "id": "e241fa719e7ca6df",
   "outputs": [
    {
     "data": {
      "text/plain": [
       "'CCC'"
      ]
     },
     "execution_count": 10,
     "metadata": {},
     "output_type": "execute_result"
    }
   ],
   "execution_count": 10
  }
 ],
 "metadata": {
  "kernelspec": {
   "display_name": "Python 3",
   "language": "python",
   "name": "python3"
  },
  "language_info": {
   "codemirror_mode": {
    "name": "ipython",
    "version": 2
   },
   "file_extension": ".py",
   "mimetype": "text/x-python",
   "name": "python",
   "nbconvert_exporter": "python",
   "pygments_lexer": "ipython2",
   "version": "2.7.6"
  }
 },
 "nbformat": 4,
 "nbformat_minor": 5
}
